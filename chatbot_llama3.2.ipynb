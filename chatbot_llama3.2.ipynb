{
 "cells": [
  {
   "cell_type": "code",
   "execution_count": 1,
   "metadata": {},
   "outputs": [],
   "source": [
    "import requests\n",
    "import json"
   ]
  },
  {
   "cell_type": "code",
   "execution_count": 2,
   "metadata": {},
   "outputs": [],
   "source": [
    "# Function to communicate with Ollama API\n",
    "def ollama_chat(prompt):\n",
    "    url = \"http://localhost:11434/api/generate\"\n",
    "    \n",
    "    headers = {\n",
    "        \"Content-Type\": \"application/json\"\n",
    "    }\n",
    "\n",
    "    # Construct the request payload with the prompt\n",
    "    data = {\n",
    "        \"model\": \"llama3.2:latest\",\n",
    "        \"prompt\": prompt,\n",
    "        \"stream\": False\n",
    "    }\n",
    "\n",
    "    # Make the API call to the Ollama server running locally\n",
    "    response = requests.post(url, headers=headers, data=json.dumps(data))\n",
    "    \n",
    "    if response.status_code == 200:\n",
    "        # Get the response text from Ollama\n",
    "        return response.json().get('response', 'No response from the model')\n",
    "    else:\n",
    "        return f\"Error: {response.status_code} - {response.text}\""
   ]
  },
  {
   "cell_type": "code",
   "execution_count": 3,
   "metadata": {},
   "outputs": [],
   "source": [
    "def interactive_chatbot():\n",
    "    print(\"Welcome to the Ollama AI Chatbot! Type 'exit' to stop.\")\n",
    "    \n",
    "    # List to keep track of conversation history\n",
    "    conversation_history = []\n",
    "\n",
    "    # Start a loop to keep taking user input\n",
    "    while True:\n",
    "        # Get user input from the prompt in Jupyter\n",
    "        user_input = input(\"You: \")\n",
    "        \n",
    "        # Exit condition\n",
    "        if user_input.lower() == 'exit':\n",
    "            print(\"Goodbye!\")\n",
    "            break\n",
    "        \n",
    "        # Add user input to conversation history\n",
    "        conversation_history.append(f\"You: {user_input}\")\n",
    "\n",
    "        # Create a single prompt string from the conversation history\n",
    "        prompt = \"\\n\".join(conversation_history)\n",
    "\n",
    "        # Send the input to the Ollama model for a response using the prompt\n",
    "        response = ollama_chat(prompt)\n",
    "\n",
    "        # Add AI response to conversation history\n",
    "        conversation_history.append(f\"AI: {response}\")\n",
    "\n",
    "        print(f\"You: {user_input}\\nAI: {response}\")"
   ]
  },
  {
   "cell_type": "code",
   "execution_count": 4,
   "metadata": {},
   "outputs": [
    {
     "name": "stdout",
     "output_type": "stream",
     "text": [
      "Welcome to the Ollama AI Chatbot! Type 'exit' to stop.\n",
      "You: why water is blue?\n",
      "AI: Water appears blue because of a phenomenon called Rayleigh scattering, which occurs when sunlight interacts with the tiny molecules of gases in the air and the water itself.\n",
      "\n",
      "When sunlight enters the Earth's atmosphere, it encounters the tiny molecules of nitrogen (N2) and oxygen (O2). These molecules scatter the shorter (blue) wavelengths of light more than the longer (red) wavelengths. This is known as Rayleigh scattering, named after the British physicist Lord Rayleigh who first described it in the late 19th century.\n",
      "\n",
      "As a result of this scattering, the blue light is dispersed throughout the atmosphere and reaches our eyes from all directions, giving the sky its blue color. When we look at water, the same phenomenon occurs, but with added complexity due to the absorption and reflection properties of water itself.\n",
      "\n",
      "Water absorbs most of the sunlight's energy in the red part of the spectrum, leaving mainly the blue light to be scattered back to our eyes. This is why water appears blue to us, especially when it's exposed to direct sunlight. However, when we see blue water under natural lighting conditions without direct sunlight, it often looks more greenish due to the presence of other substances like algae and minerals.\n",
      "\n",
      "So, in short, water appears blue because of Rayleigh scattering combined with its unique absorption properties!\n",
      "Goodbye!\n"
     ]
    }
   ],
   "source": [
    "interactive_chatbot()"
   ]
  }
 ],
 "metadata": {
  "kernelspec": {
   "display_name": "apps",
   "language": "python",
   "name": "python3"
  },
  "language_info": {
   "codemirror_mode": {
    "name": "ipython",
    "version": 3
   },
   "file_extension": ".py",
   "mimetype": "text/x-python",
   "name": "python",
   "nbconvert_exporter": "python",
   "pygments_lexer": "ipython3",
   "version": "3.10.15"
  }
 },
 "nbformat": 4,
 "nbformat_minor": 2
}
